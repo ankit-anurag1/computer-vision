{
 "cells": [
  {
   "cell_type": "code",
   "execution_count": 1,
   "metadata": {},
   "outputs": [],
   "source": [
    "import numpy as np\n",
    "import cv2"
   ]
  },
  {
   "cell_type": "code",
   "execution_count": 2,
   "metadata": {},
   "outputs": [],
   "source": [
    "face_classifier = cv2.CascadeClassifier(cv2.data.haarcascades + 'haarcascade_frontalface_default.xml')"
   ]
  },
  {
   "cell_type": "code",
   "execution_count": 3,
   "metadata": {},
   "outputs": [],
   "source": [
    "cap = cv2.VideoCapture(0)"
   ]
  },
  {
   "cell_type": "code",
   "execution_count": 5,
   "metadata": {},
   "outputs": [],
   "source": [
    "while True:\n",
    "    \n",
    "    ret, frame = cap.read()\n",
    "    \n",
    "#     if len(objectsTracked) == 0:\n",
    "    faces = face_classifier.detectMultiScale(frame)\n",
    "    if len(faces) == 0:\n",
    "        cv2.putText(frame, org=(50, 50),\n",
    "                    fontFace=cv2.FONT_HERSHEY_SIMPLEX,\n",
    "                    fontScale=1.5,\n",
    "                    text='NO FACE DETECTED',\n",
    "                    color=(0, 255, 0))\n",
    "    else:\n",
    "        for (x, y, w, h) in faces:\n",
    "            cv2.rectangle(frame,\n",
    "                         (x, y),\n",
    "                         (x + w, y + h),\n",
    "                         (255, 0, 0), 3)\n",
    "        \n",
    "    cv2.imshow('face detect', frame)\n",
    "    \n",
    "    if cv2.waitKey(15) & 0xFF == ord('q'):\n",
    "        break   \n",
    "\n",
    "cap.release()\n",
    "cv2.destroyAllWindows()"
   ]
  }
 ],
 "metadata": {
  "kernelspec": {
   "display_name": "Python 3.7.6 64-bit ('JupyterEnv': venv)",
   "language": "python",
   "name": "python37664bitjupyterenvvenv7e2094136c454c608a15b7e71cca4f80"
  },
  "language_info": {
   "codemirror_mode": {
    "name": "ipython",
    "version": 3
   },
   "file_extension": ".py",
   "mimetype": "text/x-python",
   "name": "python",
   "nbconvert_exporter": "python",
   "pygments_lexer": "ipython3",
   "version": "3.7.6"
  }
 },
 "nbformat": 4,
 "nbformat_minor": 4
}
